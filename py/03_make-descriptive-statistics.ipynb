{
 "metadata": {
  "language_info": {
   "codemirror_mode": {
    "name": "ipython",
    "version": 3
   },
   "file_extension": ".py",
   "mimetype": "text/x-python",
   "name": "python",
   "nbconvert_exporter": "python",
   "pygments_lexer": "ipython3",
   "version": "3.7.6-final"
  },
  "orig_nbformat": 2,
  "kernelspec": {
   "name": "python3",
   "display_name": "Python 3.7.6 64-bit ('base': conda)",
   "metadata": {
    "interpreter": {
     "hash": "20fd2087f2f9eb38c63b0e8dee797186f1cff0cb4be26c45bcc108ccf82b3fee"
    }
   }
  }
 },
 "nbformat": 4,
 "nbformat_minor": 2,
 "cells": [
  {
   "cell_type": "code",
   "execution_count": 1,
   "metadata": {},
   "outputs": [],
   "source": [
    "# Import libraries\n",
    "import pandas as pd\n",
    "import numpy as np"
   ]
  },
  {
   "cell_type": "code",
   "execution_count": 2,
   "metadata": {},
   "outputs": [],
   "source": [
    "te_by_participants = pd.read_csv('data/02_cleaned/by_participants/te_by_participants.csv')\n",
    "t_by_participants = pd.read_csv('data/02_cleaned/by_participants/t_by_participants.csv')\n",
    "e_by_participants = pd.read_csv('data/02_cleaned/by_participants/e_by_participants.csv')\n",
    "\n",
    "te_by_participants_rt = pd.read_csv('data/02_cleaned/by_participants/te_by_participants_rt.csv')\n",
    "t_by_participants_rt = pd.read_csv('data/02_cleaned/by_participants/t_by_participants_rt.csv')\n",
    "e_by_participants_rt = pd.read_csv('data/02_cleaned/by_participants/e_by_participants_rt.csv')"
   ]
  },
  {
   "cell_type": "code",
   "execution_count": 3,
   "metadata": {},
   "outputs": [],
   "source": [
    "# make descriptives\n",
    "\n",
    "te_descriptives = te_by_participants.groupby(['tense', 'emotion']).agg(\n",
    "    mean_up = ('mean_up', 'mean'),\n",
    "    sum_up = ('sum_up', 'sum'),\n",
    "    mean_right = ('mean_right', 'mean'),\n",
    "    sum_right = ('sum_right', 'sum'),\n",
    "    n_participants = ('participant', 'nunique'),\n",
    "    sum_item = ('n_item', 'sum')\n",
    ").reset_index()\n",
    "\n",
    "t_descriptives = t_by_participants.groupby(['tense']).agg(\n",
    "    mean_up = ('mean_up', 'mean'),\n",
    "    sum_up = ('sum_up', 'sum'),\n",
    "    mean_right = ('mean_right', 'mean'),\n",
    "    sum_right = ('sum_right', 'sum'),\n",
    "    n_participants = ('participant', 'nunique'),\n",
    "    sum_item = ('n_item', 'sum')\n",
    ").reset_index()\n",
    "\n",
    "e_descriptives = e_by_participants.groupby(['emotion']).agg(\n",
    "    mean_up = ('mean_up', 'mean'),\n",
    "    sum_up = ('sum_up', 'sum'),\n",
    "    mean_right = ('mean_right', 'mean'),\n",
    "    sum_right = ('sum_right', 'sum'),\n",
    "    n_participants = ('participant', 'nunique'),\n",
    "    sum_item = ('n_item', 'sum')\n",
    ").reset_index()"
   ]
  },
  {
   "cell_type": "code",
   "execution_count": 5,
   "metadata": {},
   "outputs": [],
   "source": [
    "# make descriptives rt\n",
    "\n",
    "te_descriptives_rt = te_by_participants_rt.groupby(['tense', 'emotion']).agg(\n",
    "    mean_rt = ('mean_rt', 'mean'),\n",
    "    n_participants = ('participant', 'nunique'),\n",
    "    sum_item = ('n_item', 'sum')\n",
    ").reset_index()\n",
    "\n",
    "t_descriptives_rt = t_by_participants_rt.groupby(['tense']).agg(\n",
    "    mean_rt = ('mean_rt', 'mean'),\n",
    "    n_participants = ('participant', 'nunique'),\n",
    "    sum_item = ('n_item', 'sum')\n",
    ").reset_index()\n",
    "\n",
    "e_descriptives_rt = e_by_participants_rt.groupby(['emotion']).agg(\n",
    "    mean_rt = ('mean_rt', 'mean'),\n",
    "    n_participants = ('participant', 'nunique'),\n",
    "    sum_item = ('n_item', 'sum')\n",
    ").reset_index()"
   ]
  },
  {
   "cell_type": "code",
   "execution_count": 6,
   "metadata": {},
   "outputs": [],
   "source": [
    "# save descriptive statistics ----\n",
    "\n",
    "# selections\n",
    "te_descriptives.to_csv('data/02_cleaned/descriptives/te_descriptives.csv', encoding='utf-8', index=False)\n",
    "t_descriptives.to_csv('data/02_cleaned/descriptives/t_descriptives.csv', encoding='utf-8', index=False)\n",
    "e_descriptives.to_csv('data/02_cleaned/descriptives/e_descriptives.csv', encoding='utf-8', index=False)\n",
    "\n",
    "# rts\n",
    "te_descriptives_rt.to_csv('data/02_cleaned/descriptives/te_descriptives_rt.csv', encoding='utf-8', index=False)\n",
    "t_descriptives_rt.to_csv('data/02_cleaned/descriptives/t_descriptives_rt.csv', encoding='utf-8', index=False)\n",
    "e_descriptives_rt.to_csv('data/02_cleaned/descriptives/e_descriptives_rt.csv', encoding='utf-8', index=False)"
   ]
  },
  {
   "cell_type": "code",
   "execution_count": null,
   "metadata": {},
   "outputs": [],
   "source": []
  }
 ]
}