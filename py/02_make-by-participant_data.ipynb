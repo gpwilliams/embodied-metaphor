{
 "metadata": {
  "language_info": {
   "codemirror_mode": {
    "name": "ipython",
    "version": 3
   },
   "file_extension": ".py",
   "mimetype": "text/x-python",
   "name": "python",
   "nbconvert_exporter": "python",
   "pygments_lexer": "ipython3",
   "version": "3.7.6-final"
  },
  "orig_nbformat": 2,
  "kernelspec": {
   "name": "python3",
   "display_name": "Python 3.7.6 64-bit ('base': conda)",
   "metadata": {
    "interpreter": {
     "hash": "20fd2087f2f9eb38c63b0e8dee797186f1cff0cb4be26c45bcc108ccf82b3fee"
    }
   }
  }
 },
 "nbformat": 4,
 "nbformat_minor": 2,
 "cells": [
  {
   "cell_type": "code",
   "execution_count": 7,
   "metadata": {},
   "outputs": [],
   "source": [
    "# Import libraries\n",
    "import pandas as pd\n",
    "import numpy as np\n",
    "import glob"
   ]
  },
  {
   "cell_type": "code",
   "execution_count": 8,
   "metadata": {},
   "outputs": [],
   "source": [
    "cleaned_data = pd.read_csv('data/02_cleaned/cleaned_data.csv')\n",
    "cleaned_data_times = pd.read_csv('data/02_cleaned/cleaned_data_times.csv')"
   ]
  },
  {
   "cell_type": "code",
   "execution_count": 9,
   "metadata": {},
   "outputs": [],
   "source": [
    "# make by-participant summaries\n",
    "\n",
    "te_by_participants = cleaned_data.groupby(['participant', 'tense', 'emotion']).agg(\n",
    "    mean_up = ('clicked_up', 'mean'),\n",
    "    sum_up = ('clicked_up', 'sum'),\n",
    "    mean_right = ('clicked_right', 'mean'),\n",
    "    sum_right = ('clicked_right', 'sum'),\n",
    "    depression_sum = ('depression_sum', 'mean'),\n",
    "    anxiety_sum = ('anxiety_sum', 'mean'),\n",
    "    stress_sum = ('stress_sum', 'mean'),\n",
    "    n_item = ('item', 'nunique')\n",
    ").reset_index()\n",
    "\n",
    "t_by_participants = cleaned_data.groupby(['participant', 'tense']).agg(\n",
    "    mean_up = ('clicked_up', 'mean'),\n",
    "    sum_up = ('clicked_up', 'sum'),\n",
    "    mean_right = ('clicked_right', 'mean'),\n",
    "    sum_right = ('clicked_right', 'sum'),\n",
    "    depression_sum = ('depression_sum', 'mean'),\n",
    "    anxiety_sum = ('anxiety_sum', 'mean'),\n",
    "    stress_sum = ('stress_sum', 'mean'),\n",
    "    n_item = ('item', 'nunique')\n",
    ").reset_index()\n",
    "\n",
    "e_by_participants = cleaned_data.groupby(['participant', 'emotion']).agg(\n",
    "    mean_up = ('clicked_up', 'mean'),\n",
    "    sum_up = ('clicked_up', 'sum'),\n",
    "    mean_right = ('clicked_right', 'mean'),\n",
    "    sum_right = ('clicked_right', 'sum'),\n",
    "    depression_sum = ('depression_sum', 'mean'),\n",
    "    anxiety_sum = ('anxiety_sum', 'mean'),\n",
    "    stress_sum = ('stress_sum', 'mean'),\n",
    "    n_item = ('item', 'nunique')\n",
    ").reset_index()\n",
    "\n",
    "# reaction times ----\n",
    "\n",
    "# make data\n",
    "te_by_participants_rt = cleaned_data_times.groupby(['participant', 'tense', 'emotion']).agg(\n",
    "    mean_rt = ('mouse_time_click', 'mean'),\n",
    "    count = ('mouse_time_click', 'count'),\n",
    "    n_item = ('item', 'nunique'),\n",
    "    mean_depression = ('depression_sum', 'mean'),\n",
    "    mean_anxiety = ('anxiety_sum', 'mean'),\n",
    "    mean_stress = ('stress_sum', 'mean')\n",
    ").reset_index()\n",
    "\n",
    "t_by_participants_rt = cleaned_data_times.groupby(['participant', 'tense']).agg(\n",
    "    mean_rt = ('mouse_time_click', 'mean'),\n",
    "    count = ('mouse_time_click', 'count'),\n",
    "    n_item = ('item', 'nunique'),\n",
    "    mean_depression = ('depression_sum', 'mean'),\n",
    "    mean_anxiety = ('anxiety_sum', 'mean'),\n",
    "    mean_stress = ('stress_sum', 'mean')\n",
    ").reset_index()\n",
    "\n",
    "e_by_participants_rt = cleaned_data_times.groupby(['participant', 'emotion']).agg(\n",
    "    mean_rt = ('mouse_time_click', 'mean'),\n",
    "    count = ('mouse_time_click', 'count'),\n",
    "    n_item = ('item', 'nunique'),\n",
    "    mean_depression = ('depression_sum', 'mean'),\n",
    "    mean_anxiety = ('anxiety_sum', 'mean'),\n",
    "    mean_stress = ('stress_sum', 'mean')\n",
    ").reset_index()"
   ]
  },
  {
   "cell_type": "code",
   "execution_count": 10,
   "metadata": {},
   "outputs": [],
   "source": [
    "# by-participants data sets ----\n",
    "\n",
    "# selections\n",
    "te_by_participants.to_csv('data/02_cleaned/by_participants/te_by_participants.csv', encoding='utf-8', index=False)\n",
    "t_by_participants.to_csv('data/02_cleaned/by_participants/t_by_participants.csv', encoding='utf-8', index=False)\n",
    "e_by_participants.to_csv('data/02_cleaned/by_participants/e_by_participants.csv', encoding='utf-8', index=False)\n",
    "\n",
    "# rts\n",
    "te_by_participants_rt.to_csv('data/02_cleaned/by_participants/te_by_participants_rt.csv', encoding='utf-8', index=False)\n",
    "t_by_participants_rt.to_csv('data/02_cleaned/by_participants/t_by_participants_rt.csv', encoding='utf-8', index=False)\n",
    "e_by_participants_rt.to_csv('data/02_cleaned/by_participants/e_by_participants_rt.csv', encoding='utf-8', index=False)"
   ]
  }
 ]
}