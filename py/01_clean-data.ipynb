{
 "metadata": {
  "language_info": {
   "codemirror_mode": {
    "name": "ipython",
    "version": 3
   },
   "file_extension": ".py",
   "mimetype": "text/x-python",
   "name": "python",
   "nbconvert_exporter": "python",
   "pygments_lexer": "ipython3",
   "version": "3.7.6-final"
  },
  "orig_nbformat": 2,
  "kernelspec": {
   "name": "python3",
   "display_name": "Python 3",
   "language": "python"
  }
 },
 "nbformat": 4,
 "nbformat_minor": 2,
 "cells": [
  {
   "source": [
    "# Clean Data"
   ],
   "cell_type": "markdown",
   "metadata": {}
  },
  {
   "source": [
    "# Import libraries\n",
    "import pandas as pd\n",
    "import numpy as np\n",
    "import glob\n",
    "import re\n",
    "import janitor"
   ],
   "cell_type": "code",
   "metadata": {},
   "execution_count": 7,
   "outputs": []
  },
  {
   "cell_type": "code",
   "execution_count": 8,
   "metadata": {},
   "outputs": [],
   "source": [
    "\n",
    "# read and sort psychopy data ----\n",
    "\n",
    "files = glob.glob('data/01_raw/pavlovia/*.csv')\n",
    "files = list(filter(lambda file: os.stat(file).st_size > 2, files)) # ignores files of 2kb of under (empty files)\n",
    "\n",
    "experiment = pd.concat(map(pd.read_csv, files))\n",
    "\n",
    "cols = list(range(0, 14)) # first few cols\n",
    "cols.extend([27, 28, 29, 30, 31, 48, 49, 62]) # add remaining relevant columns\n",
    "experiment = experiment.drop(experiment.columns[cols],axis=1)\n",
    "\n",
    "# fix incorrect condition labels (depress = depression)\n",
    "experiment.emotion = experiment.emotion.str.replace(r'depress\\b','depression',regex=True)\n",
    "experiment = experiment.loc[experiment['list'] != 'prac']\n",
    "\n",
    "# make time in milliseconds\n",
    "experiment['mouse.time'] = experiment['mouse.time'] *1000\n",
    "\n",
    "# merge columns with minor difference in heading names\n",
    "experiment['trials.thisN'] = experiment.fillna(0)['trials.thisN'] + experiment.fillna(0)['trials_2.thisN']\n",
    "\n",
    "# drop redundant columns\n",
    "experiment = experiment.drop([\n",
    "    'expName',\n",
    "    'trials.thisIndex',\n",
    "    'mouse_fixation.clicked_name', \n",
    "    'trials.thisRepN', \n",
    "    'trials.thisTrialN', \n",
    "    'trials.ran',\n",
    "    'condition',\n",
    "    'mouse.leftButton',\n",
    "    'mouse.midButton',\n",
    "    'mouse.rightButton'\n",
    "    ], \n",
    "    axis=1\n",
    ")\n",
    "\n",
    "experiment = experiment.drop(experiment.filter(regex='trials_2|mouse_fixation|mouse_sentence').columns, axis=1)\n",
    "\n",
    "# reorder cols\n",
    "cols_to_order = ['participant', 'list', 'item', 'trials.thisN', 'emotion', 'tense', 'sentence', 'correct']\n",
    "new_columns = cols_to_order + (experiment.columns.drop(cols_to_order).tolist())\n",
    "experiment = experiment[new_columns]\n",
    "\n",
    "# make new variables\n",
    "experiment['clicked_up'] = np.where(experiment['mouse.y']>0, 1, 0)\n",
    "experiment['clicked_right'] = np.where(experiment['mouse.x']>0, 1, 0)\n",
    "\n",
    "# clean names\n",
    "experiment = experiment.clean_names()"
   ]
  },
  {
   "cell_type": "code",
   "execution_count": 9,
   "metadata": {},
   "outputs": [],
   "source": [
    "# read and sort consent data ----\n",
    "\n",
    "consent = pd.read_csv('data/01_raw/qualtrics/consent-data.csv').drop([0, 1])\n",
    "consent = consent[['participant', 'Progress', 'Q5', 'Q7', 'Q8']].rename(\n",
    "    columns={'Q5': 'consent', 'Q7': 'age_years', 'Q8': 'gender'}\n",
    ").clean_names()\n",
    "\n",
    "# read and sort questionnaire data ----\n",
    "\n",
    "qdat = pd.read_csv('data/01_raw/qualtrics/questionnaire-data.csv').drop([0, 1]).clean_names()\n",
    "das_participants = qdat.filter(regex = 'participant|das')\n",
    "\n",
    "# make subscales then sum them\n",
    "das = pd.DataFrame(columns = ['participant', 'depression_sum', 'anxiety_sum', 'stress_sum'])\n",
    "das['participant'] = das_participants.participant.astype(str)\n",
    "das['depression_sum'] = das_participants.iloc[:, 0:7].astype(int).sum(axis=1)\n",
    "das['anxiety_sum'] = das_participants.iloc[:, 7:14].astype(int).sum(axis=1)\n",
    "das['stress_sum'] = das_participants.iloc[:, 14:21].astype(int).sum(axis=1)"
   ]
  },
  {
   "cell_type": "code",
   "execution_count": 10,
   "metadata": {},
   "outputs": [],
   "source": [
    "# merge data ----\n",
    "\n",
    "cleaned_data = experiment.merge(consent, on='participant', how='left')\n",
    "cleaned_data = cleaned_data.merge(das, on='participant', how='left')"
   ]
  },
  {
   "cell_type": "code",
   "execution_count": 11,
   "metadata": {},
   "outputs": [],
   "source": [
    "# make reaction time data ----\n",
    "\n",
    "# filter to correct items only; note now uses only anxiety/depression stimuli as there's no way to determine a correct selection for neutral\n",
    "cleaned_data_times = cleaned_data[(cleaned_data['correct'] == 1) & (cleaned_data['emotion'] != 'neutral')]\n",
    "\n",
    "# fix cleaned names for mouse times; uniquely identify the click x, y, and time from the array of all x, ys, and times for mouse movements\n",
    "cols=pd.Series(cleaned_data_times.columns)\n",
    "\n",
    "for dup in cols[cols.duplicated()].unique(): \n",
    "    cols[cols[cols == dup].index.values.tolist()] = [dup + '_click' if i != 0 else dup for i in range(sum(cols == dup))]\n",
    "cleaned_data_times.columns=cols\n",
    "\n",
    "# remove outliers\n",
    "cleaned_data_times = cleaned_data_times[(cleaned_data_times['mouse_time_click'] > 300) & (cleaned_data_times['mouse_time_click'] < 4000)]"
   ]
  },
  {
   "cell_type": "code",
   "execution_count": 12,
   "metadata": {},
   "outputs": [],
   "source": [
    "# save cleaned data ----\n",
    "\n",
    "cleaned_data.to_csv('data/02_cleaned/cleaned_data.csv', encoding='utf-8', index=False)\n",
    "cleaned_data_times.to_csv('data/02_cleaned/cleaned_data_times.csv', encoding='utf-8', index=False)"
   ]
  }
 ]
}